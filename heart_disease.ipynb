{
 "cells": [
  {
   "cell_type": "code",
   "execution_count": 14,
   "id": "b355de68-9227-4b32-8830-94901fccf5f2",
   "metadata": {},
   "outputs": [
    {
     "name": "stdout",
     "output_type": "stream",
     "text": [
      "Accuracy: 0.8641304347826086\n",
      "Classification Report:\n",
      "              precision    recall  f1-score   support\n",
      "\n",
      "           0       0.82      0.86      0.84        77\n",
      "           1       0.89      0.87      0.88       107\n",
      "\n",
      "    accuracy                           0.86       184\n",
      "   macro avg       0.86      0.86      0.86       184\n",
      "weighted avg       0.87      0.86      0.86       184\n",
      "\n"
     ]
    }
   ],
   "source": [
    "import pandas as pd\n",
    "from sklearn.model_selection import train_test_split\n",
    "from sklearn.preprocessing import StandardScaler, LabelEncoder\n",
    "from sklearn.svm import SVC\n",
    "from sklearn.metrics import classification_report, accuracy_score\n",
    "\n",
    "# Load the dataset\n",
    "file_path = 'heart.csv'\n",
    "heart_data = pd.read_csv(file_path)\n",
    "\n",
    "# Encode categorical variables\n",
    "label_encoders = {}\n",
    "categorical_columns = ['Sex', 'ChestPainType', 'RestingECG', 'ExerciseAngina', 'ST_Slope']\n",
    "\n",
    "for column in categorical_columns:\n",
    "    le = LabelEncoder()\n",
    "    heart_data[column] = le.fit_transform(heart_data[column])\n",
    "    label_encoders[column] = le\n",
    "\n",
    "# Separate features and target\n",
    "X = heart_data.drop(columns=['HeartDisease'])\n",
    "y = heart_data['HeartDisease']\n",
    "\n",
    "# Split the data into training and testing sets\n",
    "X_train, X_test, y_train, y_test = train_test_split(X, y, test_size=0.2, random_state=42)\n",
    "\n",
    "# Standardize the features\n",
    "scaler = StandardScaler()\n",
    "X_train_scaled = pd.DataFrame(scaler.fit_transform(X_train), columns=X_train.columns)\n",
    "X_test_scaled = pd.DataFrame(scaler.transform(X_test), columns=X_test.columns)\n",
    "\n",
    "# Build and train the SVM model\n",
    "svm_model = SVC(random_state=42)\n",
    "svm_model.fit(X_train_scaled, y_train)\n",
    "\n",
    "# Make predictions\n",
    "y_pred = svm_model.predict(X_test_scaled)\n",
    "\n",
    "# Evaluate the model\n",
    "accuracy = accuracy_score(y_test, y_pred)\n",
    "report = classification_report(y_test, y_pred)\n",
    "\n",
    "print(f\"Accuracy: {accuracy}\")\n",
    "print(\"Classification Report:\")\n",
    "print(report)\n"
   ]
  },
  {
   "cell_type": "code",
   "execution_count": 17,
   "id": "722caa5b-0a5c-4090-bc58-a32f8d6a323a",
   "metadata": {},
   "outputs": [
    {
     "ename": "NameError",
     "evalue": "name 'X_test_Scaled' is not defined",
     "output_type": "error",
     "traceback": [
      "\u001b[1;31m---------------------------------------------------------------------------\u001b[0m",
      "\u001b[1;31mNameError\u001b[0m                                 Traceback (most recent call last)",
      "Cell \u001b[1;32mIn[17], line 7\u001b[0m\n\u001b[0;32m      5\u001b[0m \u001b[38;5;66;03m# load the model from disk\u001b[39;00m\n\u001b[0;32m      6\u001b[0m loaded_model \u001b[38;5;241m=\u001b[39m pickle\u001b[38;5;241m.\u001b[39mload(\u001b[38;5;28mopen\u001b[39m(filename, \u001b[38;5;124m'\u001b[39m\u001b[38;5;124mrb\u001b[39m\u001b[38;5;124m'\u001b[39m))\n\u001b[1;32m----> 7\u001b[0m result \u001b[38;5;241m=\u001b[39m loaded_model\u001b[38;5;241m.\u001b[39mscore(X_test_Scaled, y_test)\n\u001b[0;32m      8\u001b[0m \u001b[38;5;28mprint\u001b[39m(result,\u001b[38;5;124m'\u001b[39m\u001b[38;5;124m%\u001b[39m\u001b[38;5;124m Acuuracy\u001b[39m\u001b[38;5;124m'\u001b[39m)\n",
      "\u001b[1;31mNameError\u001b[0m: name 'X_test_Scaled' is not defined"
     ]
    }
   ],
   "source": [
    "import pickle\n",
    "filename = 'final_mod.sav'\n",
    "pickle.dump(svm_model, open(filename, 'wb'))\n",
    "\n",
    "# load the model from disk\n",
    "loaded_model = pickle.load(open(filename, 'rb'))\n",
    "result = loaded_model.score(X_test_Scaled, y_test)\n",
    "print(result,'% Acuuracy')\n",
    "\n"
   ]
  },
  {
   "cell_type": "code",
   "execution_count": null,
   "id": "68b4d799-d8a6-4d89-83fc-75a2eeb6cb9b",
   "metadata": {},
   "outputs": [],
   "source": []
  },
  {
   "cell_type": "code",
   "execution_count": null,
   "id": "f4933857-dee1-4307-b3ce-ddd1bb2ce9fb",
   "metadata": {},
   "outputs": [],
   "source": []
  },
  {
   "cell_type": "code",
   "execution_count": null,
   "id": "7944079a-f47c-4a70-b1e0-411d5bf28604",
   "metadata": {},
   "outputs": [],
   "source": []
  },
  {
   "cell_type": "code",
   "execution_count": 4,
   "id": "d400bfe8-e879-4d84-9593-d41fdd3025c8",
   "metadata": {},
   "outputs": [
    {
     "name": "stdout",
     "output_type": "stream",
     "text": [
      "86.41% Accuracy\n",
      "Classification Report:\n",
      "              precision    recall  f1-score   support\n",
      "\n",
      "           0       0.82      0.86      0.84        77\n",
      "           1       0.89      0.87      0.88       107\n",
      "\n",
      "    accuracy                           0.86       184\n",
      "   macro avg       0.86      0.86      0.86       184\n",
      "weighted avg       0.87      0.86      0.86       184\n",
      "\n"
     ]
    }
   ],
   "source": [
    "import pandas as pd\n",
    "from sklearn.model_selection import train_test_split\n",
    "from sklearn.preprocessing import StandardScaler, LabelEncoder\n",
    "from sklearn.svm import SVC\n",
    "from sklearn.metrics import classification_report, accuracy_score\n",
    "import pickle\n",
    "\n",
    "# Load the dataset\n",
    "file_path = 'heart.csv'\n",
    "heart_data = pd.read_csv(file_path)\n",
    "\n",
    "# Encode categorical variables\n",
    "label_encoders = {}\n",
    "categorical_columns = ['Sex', 'ChestPainType', 'RestingECG', 'ExerciseAngina', 'ST_Slope']\n",
    "\n",
    "for column in categorical_columns:\n",
    "    le = LabelEncoder()\n",
    "    heart_data[column] = le.fit_transform(heart_data[column])\n",
    "    label_encoders[column] = le\n",
    "\n",
    "# Separate features and target\n",
    "X = heart_data.drop(columns=['HeartDisease'])\n",
    "y = heart_data['HeartDisease']\n",
    "\n",
    "# Split the data into training and testing sets\n",
    "X_train, X_test, y_train, y_test = train_test_split(X, y, test_size=0.2, random_state=42)\n",
    "\n",
    "# Standardize the features\n",
    "scaler = StandardScaler()\n",
    "X_train_scaled = pd.DataFrame(scaler.fit_transform(X_train), columns=X_train.columns)\n",
    "X_test_scaled = pd.DataFrame(scaler.transform(X_test), columns=X_test.columns)\n",
    "\n",
    "# Build and train the SVM model\n",
    "svm_model = SVC(random_state=42)\n",
    "svm_model.fit(X_train_scaled, y_train)\n",
    "\n",
    "# Save the model and scaler to disk\n",
    "filename = 'final_svm_model.sav'\n",
    "scaler_filename = 'scaler.sav'\n",
    "pickle.dump(svm_model, open(filename, 'wb'))\n",
    "pickle.dump(scaler, open(scaler_filename, 'wb'))\n",
    "\n",
    "# Load the model and scaler from disk\n",
    "loaded_model = pickle.load(open(filename, 'rb'))\n",
    "loaded_scaler = pickle.load(open(scaler_filename, 'rb'))\n",
    "\n",
    "# Transform the test data using the loaded scaler and maintain column names\n",
    "X_test_scaled_loaded = pd.DataFrame(loaded_scaler.transform(X_test), columns=X_test.columns)\n",
    "\n",
    "# Evaluate the loaded model\n",
    "result = loaded_model.score(X_test_scaled_loaded, y_test)\n",
    "print(f\"{result*100:.2f}% Accuracy\")\n",
    "\n",
    "# Make predictions\n",
    "y_pred = loaded_model.predict(X_test_scaled_loaded)\n",
    "\n",
    "# Print classification report\n",
    "report = classification_report(y_test, y_pred)\n",
    "print(\"Classification Report:\")\n",
    "print(report)\n"
   ]
  }
 ],
 "metadata": {
  "kernelspec": {
   "display_name": "Python 3 (ipykernel)",
   "language": "python",
   "name": "python3"
  },
  "language_info": {
   "codemirror_mode": {
    "name": "ipython",
    "version": 3
   },
   "file_extension": ".py",
   "mimetype": "text/x-python",
   "name": "python",
   "nbconvert_exporter": "python",
   "pygments_lexer": "ipython3",
   "version": "3.12.4"
  }
 },
 "nbformat": 4,
 "nbformat_minor": 5
}
